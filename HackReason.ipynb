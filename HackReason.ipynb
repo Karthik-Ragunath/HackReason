{
 "cells": [
  {
   "cell_type": "code",
   "execution_count": 1,
   "id": "2efd9bd7-4b24-43a2-8050-b44ddfe78879",
   "metadata": {},
   "outputs": [
    {
     "name": "stdout",
     "output_type": "stream",
     "text": [
      "Python 3.8.12\n"
     ]
    }
   ],
   "source": [
    "!python --version"
   ]
  },
  {
   "cell_type": "code",
   "execution_count": 6,
   "id": "45bfbccd-bff9-434c-964c-8e83347d21cf",
   "metadata": {},
   "outputs": [],
   "source": [
    "import pandas as pd"
   ]
  },
  {
   "cell_type": "code",
   "execution_count": 4,
   "id": "d337222f-c8cb-4b9f-93e6-dfdeea6f1fa8",
   "metadata": {},
   "outputs": [
    {
     "name": "stdout",
     "output_type": "stream",
     "text": [
      "abo-images-small.tar  images\t\t\tREADME.md\n",
      "HackReason.ipynb      LICENSE-CC-BY-NC-4.0.txt\n"
     ]
    }
   ],
   "source": [
    "!ls"
   ]
  },
  {
   "cell_type": "code",
   "execution_count": 5,
   "id": "3efdbaa0-1e35-45cd-9c5f-44658c5d26e3",
   "metadata": {},
   "outputs": [],
   "source": [
    "file_path = \"/metadata/images.csv\""
   ]
  },
  {
   "cell_type": "code",
   "execution_count": 7,
   "id": "26fc367e-2d29-473b-a3cd-504241523725",
   "metadata": {},
   "outputs": [],
   "source": [
    "df = pd.read_csv(file_path)"
   ]
  },
  {
   "cell_type": "code",
   "execution_count": 8,
   "id": "453d3fea-167c-4889-810f-b19af89a1dfd",
   "metadata": {},
   "outputs": [
    {
     "data": {
      "text/plain": [
       "Index(['image_id', 'height', 'width', 'path'], dtype='object')"
      ]
     },
     "execution_count": 8,
     "metadata": {},
     "output_type": "execute_result"
    }
   ],
   "source": [
    "df.columns"
   ]
  },
  {
   "cell_type": "code",
   "execution_count": 9,
   "id": "a330c19f-6e42-4855-a041-eea635352740",
   "metadata": {},
   "outputs": [
    {
     "data": {
      "text/plain": [
       "0         010-mllS7JL\n",
       "1         01dkn0Gyx0L\n",
       "2         01sUPg0387L\n",
       "3         1168jc-5r1L\n",
       "4         11RUV5Fs65L\n",
       "             ...     \n",
       "398207    B1zv8OpTkBS\n",
       "398208    B1zwflWhPIS\n",
       "398209    C1lf45DhhRS\n",
       "398210    C1pEt6jBLiS\n",
       "398211    C1sCYAz8NAS\n",
       "Name: image_id, Length: 398212, dtype: object"
      ]
     },
     "execution_count": 9,
     "metadata": {},
     "output_type": "execute_result"
    }
   ],
   "source": [
    "df['image_id']"
   ]
  },
  {
   "cell_type": "code",
   "execution_count": 10,
   "id": "18389f5e-4456-4699-81fc-d87bf6b94805",
   "metadata": {},
   "outputs": [
    {
     "data": {
      "text/plain": [
       "0         14/14fe8812.jpg\n",
       "1         da/daab0cad.jpg\n",
       "2         d2/d2daaae9.jpg\n",
       "3         3a/3a4e88e6.jpg\n",
       "4         d9/d91ab9cf.jpg\n",
       "               ...       \n",
       "398207    6d/6d49d130.jpg\n",
       "398208    b1/b163e0ea.jpg\n",
       "398209    a1/a116d9d1.jpg\n",
       "398210    9c/9c3e1158.jpg\n",
       "398211    cf/cf112e38.jpg\n",
       "Name: path, Length: 398212, dtype: object"
      ]
     },
     "execution_count": 10,
     "metadata": {},
     "output_type": "execute_result"
    }
   ],
   "source": [
    "df['path']"
   ]
  },
  {
   "cell_type": "code",
   "execution_count": 11,
   "id": "bd9e92c4-8791-4c9e-bfc6-2d6b56131f2e",
   "metadata": {},
   "outputs": [],
   "source": [
    "sample_dict = {\"brand\": [{\"language_tag\": \"nl_NL\", \"value\": \"find.\"}], \"bullet_point\": [{\"language_tag\": \"nl_NL\", \"value\": \"Schoen in Loafer-stijl\"}, {\"language_tag\": \"nl_NL\", \"value\": \"Platform hak\"}, {\"language_tag\": \"nl_NL\", \"value\": \"Cap teen\"}, {\"language_tag\": \"nl_NL\", \"value\": \"Middenhak\"}], \"color\": [{\"language_tag\": \"nl_NL\", \"value\": \"Veelkleurig Vrouw Blauw\"}], \"item_id\": \"B06X9STHNG\", \"item_name\": [{\"language_tag\": \"nl_NL\", \"value\": \"Amazon-merk - vinden. Dames Leder Gesloten Teen Hakken,Veelkleurig Vrouw Blauw,5 UK\"}], \"model_name\": [{\"language_tag\": \"nl_NL\", \"value\": \"37753\"}], \"model_number\": [{\"value\": \"12-05-04\"}], \"model_year\": [{\"value\": 2017}], \"product_type\": [{\"value\": \"SHOES\"}], \"style\": [{\"language_tag\": \"nl_NL\", \"value\": \"Gesloten-teen pompen\"}], \"main_image_id\": \"81iZlv3bjpL\", \"other_image_id\": [\"91mIRxgziUL\", \"91eqBkW06wL\", \"A1BHZSKNbkL\"], \"item_keywords\": [{\"language_tag\": \"nl_NL\", \"value\": \"block heel shoes\"}, {\"language_tag\": \"nl_NL\", \"value\": \"loafer shoes\"}, {\"language_tag\": \"nl_NL\", \"value\": \"loafers\"}, {\"language_tag\": \"nl_NL\", \"value\": \"metallic shoes\"}, {\"language_tag\": \"nl_NL\", \"value\": \"womens block heel shoes\"}, {\"language_tag\": \"nl_NL\", \"value\": \"womens fashion\"}, {\"language_tag\": \"nl_NL\", \"value\": \"womens loafer shoes\"}, {\"language_tag\": \"nl_NL\", \"value\": \"womens loafers\"}, {\"language_tag\": \"nl_NL\", \"value\": \"womens shoes\"}, {\"language_tag\": \"nl_NL\", \"value\": \"womenswear\"}], \"country\": \"NL\", \"marketplace\": \"Amazon\", \"domain_name\": \"amazon.nl\", \"node\": [{\"node_id\": 16391787031, \"node_name\": \"/Categorie\\u00ebn/Dames/Schoenen/Pumps\"}]}"
   ]
  },
  {
   "cell_type": "code",
   "execution_count": 12,
   "id": "c6677fb4-f754-4f86-a947-f931bd9bf3da",
   "metadata": {},
   "outputs": [
    {
     "data": {
      "text/plain": [
       "dict_keys(['brand', 'bullet_point', 'color', 'item_id', 'item_name', 'model_name', 'model_number', 'model_year', 'product_type', 'style', 'main_image_id', 'other_image_id', 'item_keywords', 'country', 'marketplace', 'domain_name', 'node'])"
      ]
     },
     "execution_count": 12,
     "metadata": {},
     "output_type": "execute_result"
    }
   ],
   "source": [
    "sample_dict.keys()"
   ]
  },
  {
   "cell_type": "code",
   "execution_count": 13,
   "id": "be0ea06f-4db2-4a7d-82ff-b6e915f0f206",
   "metadata": {},
   "outputs": [
    {
     "data": {
      "text/plain": [
       "'amazon.nl'"
      ]
     },
     "execution_count": 13,
     "metadata": {},
     "output_type": "execute_result"
    }
   ],
   "source": [
    "sample_dict['domain_name']"
   ]
  },
  {
   "cell_type": "code",
   "execution_count": 14,
   "id": "86af901e-95d6-42ed-90ba-5c71d28cbfda",
   "metadata": {},
   "outputs": [
    {
     "name": "stdout",
     "output_type": "stream",
     "text": [
      "brand [{'language_tag': 'nl_NL', 'value': 'find.'}]\n",
      "bullet_point [{'language_tag': 'nl_NL', 'value': 'Schoen in Loafer-stijl'}, {'language_tag': 'nl_NL', 'value': 'Platform hak'}, {'language_tag': 'nl_NL', 'value': 'Cap teen'}, {'language_tag': 'nl_NL', 'value': 'Middenhak'}]\n",
      "color [{'language_tag': 'nl_NL', 'value': 'Veelkleurig Vrouw Blauw'}]\n",
      "item_id B06X9STHNG\n",
      "item_name [{'language_tag': 'nl_NL', 'value': 'Amazon-merk - vinden. Dames Leder Gesloten Teen Hakken,Veelkleurig Vrouw Blauw,5 UK'}]\n",
      "model_name [{'language_tag': 'nl_NL', 'value': '37753'}]\n",
      "model_number [{'value': '12-05-04'}]\n",
      "model_year [{'value': 2017}]\n",
      "product_type [{'value': 'SHOES'}]\n",
      "style [{'language_tag': 'nl_NL', 'value': 'Gesloten-teen pompen'}]\n",
      "main_image_id 81iZlv3bjpL\n",
      "other_image_id ['91mIRxgziUL', '91eqBkW06wL', 'A1BHZSKNbkL']\n",
      "item_keywords [{'language_tag': 'nl_NL', 'value': 'block heel shoes'}, {'language_tag': 'nl_NL', 'value': 'loafer shoes'}, {'language_tag': 'nl_NL', 'value': 'loafers'}, {'language_tag': 'nl_NL', 'value': 'metallic shoes'}, {'language_tag': 'nl_NL', 'value': 'womens block heel shoes'}, {'language_tag': 'nl_NL', 'value': 'womens fashion'}, {'language_tag': 'nl_NL', 'value': 'womens loafer shoes'}, {'language_tag': 'nl_NL', 'value': 'womens loafers'}, {'language_tag': 'nl_NL', 'value': 'womens shoes'}, {'language_tag': 'nl_NL', 'value': 'womenswear'}]\n",
      "country NL\n",
      "marketplace Amazon\n",
      "domain_name amazon.nl\n",
      "node [{'node_id': 16391787031, 'node_name': '/Categorieën/Dames/Schoenen/Pumps'}]\n"
     ]
    }
   ],
   "source": [
    "for key, val in sample_dict.items():\n",
    "    print(key, val)"
   ]
  },
  {
   "cell_type": "code",
   "execution_count": 15,
   "id": "14bf02a0-f433-42c0-8b87-cfd740790f12",
   "metadata": {},
   "outputs": [],
   "source": [
    "sample_dict = {\"brand\": [{\"language_tag\": \"en_IN\", \"value\": \"Amazon Brand - Solimo\"}], \"bullet_point\": [{\"language_tag\": \"en_IN\", \"value\": \"Snug fit for Samsung Galaxy M10, with perfect cutouts for volume buttons, audio & charging ports\"}, {\"language_tag\": \"en_IN\", \"value\": \"Stylish design and appearance, express your unique personality\"}, {\"language_tag\": \"en_IN\", \"value\": \"High Resolution UV light-ion 3D Embossed Printing for extraordinary quality and clarity. Printed using high end advanced Japanese machines. Your get our quality promise and design excellence\"}, {\"language_tag\": \"en_IN\", \"value\": \"Extreme precision design allows easy access to all buttons and ports while featuring raised bezel to life screen and camera off flat surface.\"}, {\"language_tag\": \"en_IN\", \"value\": \"Protects phone from scratches, fingerprints and sweat\"}, {\"language_tag\": \"en_IN\", \"value\": \"Easy to put & take off\"}, {\"language_tag\": \"en_IN\", \"value\": \"None\"}], \"color\": [{\"language_tag\": \"en_IN\", \"standardized_values\": [\"multi-colored\"], \"value\": \"multi-colored\"}], \"item_id\": \"B07R7WML4R\", \"item_name\": [{\"language_tag\": \"en_IN\", \"value\": \"Amazon Brand - Solimo Designer Kitty Printed Hard Back Case Mobile Cover for Samsung Galaxy M10 (D1211)\"}], \"item_weight\": [{\"normalized_value\": {\"unit\": \"pounds\", \"value\": 0.110231131}, \"unit\": \"grams\", \"value\": 50}], \"model_name\": [{\"language_tag\": \"en_IN\", \"value\": \"Samsung Galaxy M10\"}], \"model_number\": [{\"value\": \"1101811\"}], \"product_type\": [{\"value\": \"CELLULAR_PHONE_CASE\"}], \"style\": [{\"language_tag\": \"en_IN\", \"value\": \"Comics and Cartoons\"}], \"main_image_id\": \"61Q0baX067L\", \"other_image_id\": [\"519fzbaUEVL\", \"51xtr80EGmL\", \"51ihda22C9L\", \"61nqcPNRsUL\", \"51VqT11Io7L\"], \"item_keywords\": [{\"language_tag\": \"en_IN\", \"value\": \"Samsung Galaxy M10 Mobile back case cover transparent slim designer printed stylish new girls boys\"}], \"country\": \"IN\", \"marketplace\": \"Amazon\", \"domain_name\": \"amazon.in\", \"node\": [{\"node_id\": 1389409031, \"node_name\": \"/Categories/Mobiles & Accessories/Mobile Accessories/Cases & Covers\"}]}"
   ]
  },
  {
   "cell_type": "code",
   "execution_count": 16,
   "id": "e50772b0-9d43-49a0-adbb-001bb57eb390",
   "metadata": {},
   "outputs": [
    {
     "name": "stdout",
     "output_type": "stream",
     "text": [
      "brand [{'language_tag': 'en_IN', 'value': 'Amazon Brand - Solimo'}]\n",
      "bullet_point [{'language_tag': 'en_IN', 'value': 'Snug fit for Samsung Galaxy M10, with perfect cutouts for volume buttons, audio & charging ports'}, {'language_tag': 'en_IN', 'value': 'Stylish design and appearance, express your unique personality'}, {'language_tag': 'en_IN', 'value': 'High Resolution UV light-ion 3D Embossed Printing for extraordinary quality and clarity. Printed using high end advanced Japanese machines. Your get our quality promise and design excellence'}, {'language_tag': 'en_IN', 'value': 'Extreme precision design allows easy access to all buttons and ports while featuring raised bezel to life screen and camera off flat surface.'}, {'language_tag': 'en_IN', 'value': 'Protects phone from scratches, fingerprints and sweat'}, {'language_tag': 'en_IN', 'value': 'Easy to put & take off'}, {'language_tag': 'en_IN', 'value': 'None'}]\n",
      "color [{'language_tag': 'en_IN', 'standardized_values': ['multi-colored'], 'value': 'multi-colored'}]\n",
      "item_id B07R7WML4R\n",
      "item_name [{'language_tag': 'en_IN', 'value': 'Amazon Brand - Solimo Designer Kitty Printed Hard Back Case Mobile Cover for Samsung Galaxy M10 (D1211)'}]\n",
      "item_weight [{'normalized_value': {'unit': 'pounds', 'value': 0.110231131}, 'unit': 'grams', 'value': 50}]\n",
      "model_name [{'language_tag': 'en_IN', 'value': 'Samsung Galaxy M10'}]\n",
      "model_number [{'value': '1101811'}]\n",
      "product_type [{'value': 'CELLULAR_PHONE_CASE'}]\n",
      "style [{'language_tag': 'en_IN', 'value': 'Comics and Cartoons'}]\n",
      "main_image_id 61Q0baX067L\n",
      "other_image_id ['519fzbaUEVL', '51xtr80EGmL', '51ihda22C9L', '61nqcPNRsUL', '51VqT11Io7L']\n",
      "item_keywords [{'language_tag': 'en_IN', 'value': 'Samsung Galaxy M10 Mobile back case cover transparent slim designer printed stylish new girls boys'}]\n",
      "country IN\n",
      "marketplace Amazon\n",
      "domain_name amazon.in\n",
      "node [{'node_id': 1389409031, 'node_name': '/Categories/Mobiles & Accessories/Mobile Accessories/Cases & Covers'}]\n"
     ]
    }
   ],
   "source": [
    "for key, val in sample_dict.items():\n",
    "    print(key, val)"
   ]
  },
  {
   "cell_type": "code",
   "execution_count": 85,
   "id": "fe149960-ac16-42f3-b76f-cacb135f3460",
   "metadata": {},
   "outputs": [],
   "source": [
    "import json\n",
    "import ast\n",
    "from collections import defaultdict\n",
    "from os import walk\n",
    "import os"
   ]
  },
  {
   "cell_type": "code",
   "execution_count": 26,
   "id": "8e3af539-80ea-4e1a-82b7-95dcd0a4887d",
   "metadata": {},
   "outputs": [],
   "source": [
    "new_df = pd.read_json(\"listings/metadata/listings_0.json\", lines=True)"
   ]
  },
  {
   "cell_type": "code",
   "execution_count": 27,
   "id": "0d271537-cbd3-4a47-b396-8c691f51590e",
   "metadata": {},
   "outputs": [
    {
     "data": {
      "text/plain": [
       "Index(['brand', 'bullet_point', 'color', 'item_id', 'item_name', 'model_name',\n",
       "       'model_number', 'model_year', 'product_type', 'style', 'main_image_id',\n",
       "       'other_image_id', 'item_keywords', 'country', 'marketplace',\n",
       "       'domain_name', 'node', 'item_dimensions', 'item_weight', 'material',\n",
       "       'fabric_type', 'color_code', 'product_description', 'spin_id',\n",
       "       '3dmodel_id', 'pattern', 'finish_type', 'item_shape'],\n",
       "      dtype='object')"
      ]
     },
     "execution_count": 27,
     "metadata": {},
     "output_type": "execute_result"
    }
   ],
   "source": [
    "new_df.columns"
   ]
  },
  {
   "cell_type": "code",
   "execution_count": 55,
   "id": "4211c4a4-0cde-42ea-87ea-251d40072f67",
   "metadata": {},
   "outputs": [
    {
     "data": {
      "text/plain": [
       "'find.'"
      ]
     },
     "execution_count": 55,
     "metadata": {},
     "output_type": "execute_result"
    }
   ],
   "source": [
    "new_df['brand'][0][0]['value']"
   ]
  },
  {
   "cell_type": "code",
   "execution_count": 94,
   "id": "cb266549-e5b4-4790-b3ae-15e46e904821",
   "metadata": {},
   "outputs": [],
   "source": [
    "f = []\n",
    "for (dirpath, dirnames, filenames) in walk(\"listings/metadata/\"):\n",
    "    for filename in filenames:\n",
    "        f.append(os.path.join(dirpath, filename))"
   ]
  },
  {
   "cell_type": "code",
   "execution_count": 151,
   "id": "1a6d53cb-7954-4f00-8881-fd41db886fc9",
   "metadata": {},
   "outputs": [],
   "source": [
    "id2cat_dict = defaultdict(list)\n",
    "id2det_dict = defaultdict(dict)\n",
    "image_id_set = set()\n",
    "for filename in f:\n",
    "    new_df = pd.read_json(filename, lines=True)\n",
    "    for item_id, node, model_name, brand, image_id in zip(new_df['item_id'], new_df['node'], new_df['model_name'], new_df['brand'], new_df['main_image_id']):\n",
    "        try:\n",
    "            node_name = node[0]['node_name'].split(',')[0].split('/')[2]\n",
    "            if model_name[0]['language_tag'] == 'en_IN' and item_id and node_name and brand[0]['value'] and image_id and image_id != 'nan':\n",
    "                id2cat_dict['item_id'].append(item_id)\n",
    "                id2cat_dict['category'].append(node_name)\n",
    "                id2cat_dict['brand_name'].append(brand[0]['value'])\n",
    "                id2det_dict[image_id]['category'] = node_name\n",
    "                id2det_dict[image_id]['brand_name'] = brand[0]['value']\n",
    "                image_id_set.add(image_id)\n",
    "        except:\n",
    "            # print(node)\n",
    "            pass"
   ]
  },
  {
   "cell_type": "code",
   "execution_count": 152,
   "id": "d4cf4ac2-83ea-4a07-b71a-15fbbdb6763c",
   "metadata": {},
   "outputs": [
    {
     "data": {
      "text/plain": [
       "65260"
      ]
     },
     "execution_count": 152,
     "metadata": {},
     "output_type": "execute_result"
    }
   ],
   "source": [
    "len(id2det_dict)"
   ]
  },
  {
   "cell_type": "code",
   "execution_count": 153,
   "id": "d1943f95-6137-402f-9ca5-9d15cf04a358",
   "metadata": {},
   "outputs": [
    {
     "data": {
      "text/plain": [
       "65260"
      ]
     },
     "execution_count": 153,
     "metadata": {},
     "output_type": "execute_result"
    }
   ],
   "source": [
    "len(image_id_set)"
   ]
  },
  {
   "cell_type": "code",
   "execution_count": 154,
   "id": "7ed16a5f-6a29-4b8b-8fff-6bcbf6a02ab4",
   "metadata": {},
   "outputs": [
    {
     "data": {
      "text/plain": [
       "3"
      ]
     },
     "execution_count": 154,
     "metadata": {},
     "output_type": "execute_result"
    }
   ],
   "source": [
    "len(id2cat_dict.keys())"
   ]
  },
  {
   "cell_type": "code",
   "execution_count": 155,
   "id": "1e07cd30-7aff-4e3c-b7bd-453f7a2ccd42",
   "metadata": {},
   "outputs": [],
   "source": [
    "# id2cat_dict"
   ]
  },
  {
   "cell_type": "code",
   "execution_count": 156,
   "id": "28b178f4-6105-4b54-980b-f734e52e942f",
   "metadata": {},
   "outputs": [],
   "source": [
    "# id2det_dict"
   ]
  },
  {
   "cell_type": "code",
   "execution_count": 157,
   "id": "1383994f-e6c2-4468-8af3-5801c1d0bfa3",
   "metadata": {},
   "outputs": [
    {
     "data": {
      "text/plain": [
       "Index(['image_id', 'height', 'width', 'path'], dtype='object')"
      ]
     },
     "execution_count": 157,
     "metadata": {},
     "output_type": "execute_result"
    }
   ],
   "source": [
    "df.columns"
   ]
  },
  {
   "cell_type": "code",
   "execution_count": 158,
   "id": "341efa38-0c2f-4c76-8fd8-f2d8d192212b",
   "metadata": {},
   "outputs": [],
   "source": [
    "imageid2path_dict = dict()\n",
    "for image_id, path in zip(df['image_id'], df['path']):\n",
    "    imageid2path_dict[image_id] = path"
   ]
  },
  {
   "cell_type": "code",
   "execution_count": 159,
   "id": "a5c67091-a751-45d6-9016-857b6b3689ca",
   "metadata": {},
   "outputs": [],
   "source": [
    "# imageid2path_dict"
   ]
  },
  {
   "cell_type": "code",
   "execution_count": 160,
   "id": "ea002a9c-afe4-4375-b8b9-b711083347df",
   "metadata": {},
   "outputs": [
    {
     "name": "stdout",
     "output_type": "stream",
     "text": [
      "nan\n"
     ]
    }
   ],
   "source": [
    "for image_id in image_id_set:\n",
    "    try:\n",
    "        id2det_dict[image_id]['image_path'] = imageid2path_dict[image_id]\n",
    "    except:\n",
    "        print(image_id)"
   ]
  },
  {
   "cell_type": "code",
   "execution_count": 161,
   "id": "f4004f69-d62b-47d2-adc0-72c945747b02",
   "metadata": {},
   "outputs": [
    {
     "data": {
      "text/plain": [
       "65260"
      ]
     },
     "execution_count": 161,
     "metadata": {},
     "output_type": "execute_result"
    }
   ],
   "source": [
    "len(id2det_dict.keys())"
   ]
  },
  {
   "cell_type": "code",
   "execution_count": 170,
   "id": "400ef0ee-e07e-4c47-8ed9-0533e0ae12d6",
   "metadata": {},
   "outputs": [],
   "source": [
    "# id2det_dict"
   ]
  },
  {
   "cell_type": "code",
   "execution_count": 171,
   "id": "69c0ff7e-3a27-479c-9414-704fc3dc7917",
   "metadata": {},
   "outputs": [],
   "source": [
    "imageLoc2category_dict_list = []\n",
    "for key, val in id2det_dict.items():\n",
    "    if 'category' in val and 'image_path' in val:\n",
    "        imageLoc2category_dict_list.append({\"image_path\": val[\"image_path\"], \"category\": val['category']})"
   ]
  },
  {
   "cell_type": "code",
   "execution_count": 172,
   "id": "1a3d6815-fc09-48ee-a92c-248e51399548",
   "metadata": {},
   "outputs": [],
   "source": [
    "train_df = pd.DataFrame.from_dict(imageLoc2category_dict_list, orient='columns')"
   ]
  },
  {
   "cell_type": "code",
   "execution_count": 173,
   "id": "31eb4568-c57c-4e94-8268-d7200053b1a8",
   "metadata": {},
   "outputs": [],
   "source": [
    "import os\n",
    "import torch\n",
    "\n",
    "device = (\"cuda\" if torch.cuda.is_available() else \"cpu\")\n",
    "train_df.to_csv (r'train_csv.csv', index = False, header=True)"
   ]
  },
  {
   "cell_type": "code",
   "execution_count": 174,
   "id": "8dd3fba4-d9a6-4b23-a1cf-2c9f8f939440",
   "metadata": {},
   "outputs": [
    {
     "data": {
      "text/plain": [
       "'cuda'"
      ]
     },
     "execution_count": 174,
     "metadata": {},
     "output_type": "execute_result"
    }
   ],
   "source": [
    "device"
   ]
  },
  {
   "cell_type": "code",
   "execution_count": 219,
   "id": "3e70be4f-43e5-4ef8-a745-44bd155d275d",
   "metadata": {},
   "outputs": [
    {
     "data": {
      "text/plain": [
       "array(['Mobiles & Accessories', 'Shoes', 'Home & Décor',\n",
       "       'Janitorial & Sanitation Supplies', 'Kitchen & Home Appliances',\n",
       "       'Heating', 'Soft Toys', 'Painting Supplies', 'GPS & Accessories',\n",
       "       'Indoor Lighting', 'Wallets', 'Women', 'Transporting & Storage',\n",
       "       'Portable Media Players', 'Home Furnishing',\n",
       "       'Cameras & Photography', 'Car Tyres & Rims', 'Exercise & Fitness',\n",
       "       'Occupational Health & Safety Products',\n",
       "       'Accessories & Peripherals', 'Men', 'Tools & Accessories',\n",
       "       'Dolls & Accessories', 'Bedding', 'Football', 'Car Accessories',\n",
       "       'Basketball', 'Cleaning Supplies', 'Furniture', 'Luggage',\n",
       "       'Stationery', 'Cycling', 'Kitchen & Dining', 'Large Appliances'],\n",
       "      dtype=object)"
      ]
     },
     "execution_count": 219,
     "metadata": {},
     "output_type": "execute_result"
    }
   ],
   "source": [
    "unique_classes = train_df['category'].unique()\n",
    "unique_classes"
   ]
  },
  {
   "cell_type": "code",
   "execution_count": 221,
   "id": "81a447ba-ae6b-43d4-b512-607eb77124a5",
   "metadata": {},
   "outputs": [],
   "source": [
    "class2id_dict = dict()\n",
    "for index, category_name in enumerate(unique_classes):\n",
    "    class2id_dict[category_name] = index"
   ]
  },
  {
   "cell_type": "code",
   "execution_count": 678,
   "id": "bc86e7cb-f1a2-4113-827f-7f7e5a9e4866",
   "metadata": {},
   "outputs": [
    {
     "data": {
      "text/plain": [
       "{'Mobiles & Accessories': 0,\n",
       " 'Shoes': 1,\n",
       " 'Home & Décor': 2,\n",
       " 'Janitorial & Sanitation Supplies': 3,\n",
       " 'Kitchen & Home Appliances': 4,\n",
       " 'Heating': 5,\n",
       " 'Soft Toys': 6,\n",
       " 'Painting Supplies': 7,\n",
       " 'GPS & Accessories': 8,\n",
       " 'Indoor Lighting': 9,\n",
       " 'Wallets': 10,\n",
       " 'Women': 11,\n",
       " 'Transporting & Storage': 12,\n",
       " 'Portable Media Players': 13,\n",
       " 'Home Furnishing': 14,\n",
       " 'Cameras & Photography': 15,\n",
       " 'Car Tyres & Rims': 16,\n",
       " 'Exercise & Fitness': 17,\n",
       " 'Occupational Health & Safety Products': 18,\n",
       " 'Accessories & Peripherals': 19,\n",
       " 'Men': 20,\n",
       " 'Tools & Accessories': 21,\n",
       " 'Dolls & Accessories': 22,\n",
       " 'Bedding': 23,\n",
       " 'Football': 24,\n",
       " 'Car Accessories': 25,\n",
       " 'Basketball': 26,\n",
       " 'Cleaning Supplies': 27,\n",
       " 'Furniture': 28,\n",
       " 'Luggage': 29,\n",
       " 'Stationery': 30,\n",
       " 'Cycling': 31,\n",
       " 'Kitchen & Dining': 32,\n",
       " 'Large Appliances': 33}"
      ]
     },
     "execution_count": 678,
     "metadata": {},
     "output_type": "execute_result"
    }
   ],
   "source": [
    "class2id_dict"
   ]
  },
  {
   "cell_type": "code",
   "execution_count": 518,
   "id": "efeef912-04f4-4630-aa27-e2a94b40139c",
   "metadata": {},
   "outputs": [],
   "source": [
    "from torch.utils.data import Dataset\n",
    "from skimage import io, transform\n",
    "from PIL import Image\n",
    "import torch.nn.functional as F\n",
    "\n",
    "class EcommerceTrainDataset(Dataset):\n",
    "    def __init__(self, root_dir, annotation_file, transform=None):\n",
    "        self.root_dir = root_dir\n",
    "        self.annotations = pd.read_csv(annotation_file)\n",
    "        self.transform = transform\n",
    "\n",
    "    def __len__(self):\n",
    "        return len(self.annotations)\n",
    "\n",
    "    def __getitem__(self, index):\n",
    "        img_id = self.annotations.iloc[index, 0] # 0 - image_path\n",
    "        # img = io.imread(os.path.join(self.root_dir, \"images/small\", img_id))\n",
    "        img = Image.open(os.path.join(self.root_dir, \"images/small\", img_id)).convert(\"RGB\")\n",
    "        # y_label = torch.tensor(float(self.annotations.iloc[index, 1])) # 1 - category\n",
    "        y_label = self.annotations.iloc[index, 1] # 1 - category\n",
    "        y_label_ids = torch.tensor(float(class2id_dict[y_label]))\n",
    "        if self.transform is not None:\n",
    "            img = self.transform(img)\n",
    "\n",
    "        return (img, y_label_ids)"
   ]
  },
  {
   "cell_type": "code",
   "execution_count": 519,
   "id": "31a8445a-2048-4842-a863-0cf8f0f8ca15",
   "metadata": {},
   "outputs": [
    {
     "data": {
      "text/plain": [
       "tensor([0, 0, 0, 0, 0, 1])"
      ]
     },
     "execution_count": 519,
     "metadata": {},
     "output_type": "execute_result"
    }
   ],
   "source": [
    "F.one_hot(torch.tensor(5), num_classes=6)"
   ]
  },
  {
   "cell_type": "code",
   "execution_count": 520,
   "id": "92939097-8d14-4c48-9a97-0b0b7a084a2a",
   "metadata": {},
   "outputs": [
    {
     "data": {
      "text/plain": [
       "'a/b/c/d'"
      ]
     },
     "execution_count": 520,
     "metadata": {},
     "output_type": "execute_result"
    }
   ],
   "source": [
    "os.path.join(\"a\", \"b/c\", \"d\")"
   ]
  },
  {
   "cell_type": "code",
   "execution_count": 521,
   "id": "b8331559-0b29-4287-9041-b6e64f11bb07",
   "metadata": {},
   "outputs": [],
   "source": [
    "import torch.nn as nn\n",
    "import torchvision.models as models\n",
    "\n",
    "class CNN(nn.Module):\n",
    "    def __init__(self, train_CNN=False, num_classes=1):\n",
    "        super(CNN, self).__init__()\n",
    "        self.train_CNN = train_CNN\n",
    "        self.inception = models.inception_v3(pretrained=True, aux_logits=False)\n",
    "        self.inception.fc = nn.Linear(self.inception.fc.in_features, num_classes)\n",
    "        self.relu = nn.ReLU()\n",
    "        self.dropout = nn.Dropout(0.5)\n",
    "        self.sigmoid = nn.Sigmoid()\n",
    "\n",
    "    def forward(self, images):\n",
    "        features = self.inception(images)\n",
    "        return self.sigmoid(self.dropout(self.relu(features))).squeeze(1)"
   ]
  },
  {
   "cell_type": "code",
   "execution_count": 522,
   "id": "47cc6e6c-1931-4d6c-a32f-15f176dd5674",
   "metadata": {},
   "outputs": [],
   "source": [
    "from torch.utils.data import DataLoader\n",
    "import torchvision.transforms as transforms\n",
    "# from Model import CNN\n",
    "# from Dataset import EcommerceTrainDataset\n",
    "from tqdm import tqdm"
   ]
  },
  {
   "cell_type": "code",
   "execution_count": 523,
   "id": "d74c0e21-4766-44da-9374-f3db6ac7edd8",
   "metadata": {},
   "outputs": [],
   "source": [
    "transform = transforms.Compose(\n",
    "        [\n",
    "            transforms.Resize((356, 356)),\n",
    "            transforms.RandomCrop((299, 299)),\n",
    "            transforms.ToTensor(),\n",
    "            transforms.Normalize((0.5, 0.5, 0.5), (0.5, 0.5, 0.5)),\n",
    "        ]\n",
    "    )"
   ]
  },
  {
   "cell_type": "code",
   "execution_count": 646,
   "id": "3d82cf86-c55e-4a0f-9221-1d783ca56e08",
   "metadata": {},
   "outputs": [],
   "source": [
    "num_epochs = 30\n",
    "learning_rate = 0.001\n",
    "train_CNN = False\n",
    "batch_size = 32\n",
    "shuffle = True\n",
    "pin_memory = True\n",
    "num_workers = 1"
   ]
  },
  {
   "cell_type": "code",
   "execution_count": 647,
   "id": "058da946-08d8-47b2-9c47-dc9ffd88e889",
   "metadata": {},
   "outputs": [
    {
     "data": {
      "text/plain": [
       "'/media/karthikragunath/Personal-Data/HackReason'"
      ]
     },
     "execution_count": 647,
     "metadata": {},
     "output_type": "execute_result"
    }
   ],
   "source": [
    "import os\n",
    "cwd = os.getcwd()\n",
    "cwd"
   ]
  },
  {
   "cell_type": "code",
   "execution_count": 648,
   "id": "cad71fdb-dfa0-43e4-a77c-7d87e42dfd59",
   "metadata": {},
   "outputs": [],
   "source": [
    "dataset = EcommerceTrainDataset(\"/media/karthikragunath/Personal-Data/HackReason\",\"train_csv.csv\",transform=transform)\n",
    "# train_size = int(0.8 * len(dataset))\n",
    "# validation_size = len(dataset) - train_size\n",
    "# train_set, validation_set = torch.utils.data.random_split(dataset,[train_size, validation_size])\n",
    "train_size = int(0.8 * len(data_subset))\n",
    "validation_size = len(data_subset) - train_size\n",
    "train_set, validation_set = torch.utils.data.random_split(data_subset,[train_size, validation_size])\n",
    "train_loader = DataLoader(dataset=data_subset, shuffle=shuffle, batch_size=batch_size,num_workers=num_workers,pin_memory=pin_memory)\n",
    "validation_loader = DataLoader(dataset=validation_set, shuffle=shuffle, batch_size=batch_size,num_workers=num_workers, pin_memory=pin_memory)"
   ]
  },
  {
   "cell_type": "code",
   "execution_count": 649,
   "id": "5a5092c9-0aa4-4d8c-92a0-0d01ebaf7276",
   "metadata": {},
   "outputs": [
    {
     "data": {
      "text/plain": [
       "array(['Mobiles & Accessories', 'Shoes', 'Home & Décor',\n",
       "       'Janitorial & Sanitation Supplies', 'Kitchen & Home Appliances',\n",
       "       'Heating', 'Soft Toys', 'Painting Supplies', 'GPS & Accessories',\n",
       "       'Indoor Lighting', 'Wallets', 'Women', 'Transporting & Storage',\n",
       "       'Portable Media Players', 'Home Furnishing',\n",
       "       'Cameras & Photography', 'Car Tyres & Rims', 'Exercise & Fitness',\n",
       "       'Occupational Health & Safety Products',\n",
       "       'Accessories & Peripherals', 'Men', 'Tools & Accessories',\n",
       "       'Dolls & Accessories', 'Bedding', 'Football', 'Car Accessories',\n",
       "       'Basketball', 'Cleaning Supplies', 'Furniture', 'Luggage',\n",
       "       'Stationery', 'Cycling', 'Kitchen & Dining', 'Large Appliances'],\n",
       "      dtype=object)"
      ]
     },
     "execution_count": 649,
     "metadata": {},
     "output_type": "execute_result"
    }
   ],
   "source": [
    "unique_classes = train_df['category'].unique()\n",
    "unique_classes"
   ]
  },
  {
   "cell_type": "code",
   "execution_count": 650,
   "id": "bd498f81-7f45-46c1-8714-dbedf409f6c0",
   "metadata": {},
   "outputs": [
    {
     "data": {
      "text/plain": [
       "Mobiles & Accessories                    64254\n",
       "Shoes                                      691\n",
       "Home & Décor                               118\n",
       "Painting Supplies                           71\n",
       "Soft Toys                                   38\n",
       "Indoor Lighting                             14\n",
       "Women                                       12\n",
       "Heating                                      7\n",
       "Home Furnishing                              6\n",
       "Kitchen & Home Appliances                    5\n",
       "Janitorial & Sanitation Supplies             4\n",
       "Men                                          4\n",
       "Accessories & Peripherals                    4\n",
       "Furniture                                    3\n",
       "Football                                     3\n",
       "Exercise & Fitness                           3\n",
       "Portable Media Players                       3\n",
       "Basketball                                   2\n",
       "Tools & Accessories                          2\n",
       "Car Tyres & Rims                             1\n",
       "Kitchen & Dining                             1\n",
       "Cycling                                      1\n",
       "Stationery                                   1\n",
       "Luggage                                      1\n",
       "GPS & Accessories                            1\n",
       "Cleaning Supplies                            1\n",
       "Car Accessories                              1\n",
       "Cameras & Photography                        1\n",
       "Wallets                                      1\n",
       "Bedding                                      1\n",
       "Dolls & Accessories                          1\n",
       "Transporting & Storage                       1\n",
       "Occupational Health & Safety Products        1\n",
       "Large Appliances                             1\n",
       "Name: category, dtype: int64"
      ]
     },
     "execution_count": 650,
     "metadata": {},
     "output_type": "execute_result"
    }
   ],
   "source": [
    "train_df['category'].value_counts()"
   ]
  },
  {
   "cell_type": "code",
   "execution_count": 651,
   "id": "a71ca795-32f0-4266-b4a7-04137b15e4c6",
   "metadata": {},
   "outputs": [
    {
     "data": {
      "text/plain": [
       "Mobiles & Accessories                    64254\n",
       "Shoes                                      691\n",
       "Home & Décor                               118\n",
       "Painting Supplies                           71\n",
       "Soft Toys                                   38\n",
       "Indoor Lighting                             14\n",
       "Women                                       12\n",
       "Heating                                      7\n",
       "Home Furnishing                              6\n",
       "Kitchen & Home Appliances                    5\n",
       "Janitorial & Sanitation Supplies             4\n",
       "Men                                          4\n",
       "Accessories & Peripherals                    4\n",
       "Furniture                                    3\n",
       "Football                                     3\n",
       "Exercise & Fitness                           3\n",
       "Portable Media Players                       3\n",
       "Basketball                                   2\n",
       "Tools & Accessories                          2\n",
       "Car Tyres & Rims                             1\n",
       "Kitchen & Dining                             1\n",
       "Cycling                                      1\n",
       "Stationery                                   1\n",
       "Luggage                                      1\n",
       "GPS & Accessories                            1\n",
       "Cleaning Supplies                            1\n",
       "Car Accessories                              1\n",
       "Cameras & Photography                        1\n",
       "Wallets                                      1\n",
       "Bedding                                      1\n",
       "Dolls & Accessories                          1\n",
       "Transporting & Storage                       1\n",
       "Occupational Health & Safety Products        1\n",
       "Large Appliances                             1\n",
       "Name: category, dtype: int64"
      ]
     },
     "execution_count": 651,
     "metadata": {},
     "output_type": "execute_result"
    }
   ],
   "source": [
    "train_df['category'].value_counts()"
   ]
  },
  {
   "cell_type": "code",
   "execution_count": 652,
   "id": "16951279-c24f-413c-8ef2-7370166cbd19",
   "metadata": {},
   "outputs": [],
   "source": [
    "# num_classes = len(unique_classes)\n",
    "num_classes = 3"
   ]
  },
  {
   "cell_type": "code",
   "execution_count": 653,
   "id": "56ac74a2-4865-45c1-904e-2ad8a397c7b6",
   "metadata": {},
   "outputs": [],
   "source": [
    "model = CNN(num_classes=num_classes).to(device)\n",
    "\n",
    "# criterion = nn.BCELoss()\n",
    "criterion = nn.CrossEntropyLoss()\n",
    "optimizer = torch.optim.Adam(model.parameters(), lr=learning_rate)\n",
    "\n",
    "for name, param in model.inception.named_parameters():\n",
    "    if \"fc.weight\" in name or \"fc.bias\" in name:\n",
    "        param.requires_grad = True\n",
    "    else:\n",
    "        param.requires_grad = train_CNN"
   ]
  },
  {
   "cell_type": "code",
   "execution_count": 654,
   "id": "2f16118f-8b4d-4b29-ad85-a9d82025d3a2",
   "metadata": {},
   "outputs": [],
   "source": [
    "import numpy as np"
   ]
  },
  {
   "cell_type": "code",
   "execution_count": 655,
   "id": "b31b04fa-4a5d-483c-9d6b-4e284658e70d",
   "metadata": {},
   "outputs": [],
   "source": [
    "def check_accuracy(loader, model):\n",
    "    if loader == train_loader:\n",
    "        print(\"Checking accuracy on training data\")\n",
    "    else:\n",
    "        print(\"Checking accuracy on validation data\")\n",
    "\n",
    "    num_correct = 0\n",
    "    num_samples = 0\n",
    "    model.eval()\n",
    "\n",
    "    with torch.no_grad():\n",
    "        for x, y in loader:\n",
    "            x = x.to(device=device)\n",
    "            y = y.to(device=device)\n",
    "            scores = model(x)\n",
    "            # predictions = torch.tensor([1.0 if i >= 0.5 else 0.0 for i in scores]).to(device)\n",
    "            predictions = torch.tensor([torch.argmax(class_scores) for _, class_scores in enumerate(scores)]).to(device)\n",
    "            num_correct += (predictions == y).sum()\n",
    "            # num_samples += predictions.size(0)\n",
    "            num_samples += scores.size(0)\n",
    "    print(\n",
    "        f\"Got {num_correct} / {num_samples} with accuracy {float(num_correct)/float(num_samples)*100:.2f}\"\n",
    "    )\n",
    "    model.train()\n",
    "    return f\"{float(num_correct)/float(num_samples)*100:.2f}\""
   ]
  },
  {
   "cell_type": "code",
   "execution_count": 656,
   "id": "71947195-9007-4671-aa1f-b66dcadab233",
   "metadata": {},
   "outputs": [
    {
     "data": {
      "text/plain": [
       "tensor(0)"
      ]
     },
     "execution_count": 656,
     "metadata": {},
     "output_type": "execute_result"
    }
   ],
   "source": [
    "torch.argmax(torch.tensor([2,1,1]))"
   ]
  },
  {
   "cell_type": "code",
   "execution_count": 657,
   "id": "8b798125-ce08-4d93-9ebe-dd99d8a75f58",
   "metadata": {},
   "outputs": [
    {
     "data": {
      "text/plain": [
       "tensor(3)"
      ]
     },
     "execution_count": 657,
     "metadata": {},
     "output_type": "execute_result"
    }
   ],
   "source": [
    "(torch.tensor([2,1,1]) == torch.tensor([2,1,1])).sum()"
   ]
  },
  {
   "cell_type": "code",
   "execution_count": 658,
   "id": "4efc5d0f-df39-408a-880e-3e2930cc5565",
   "metadata": {},
   "outputs": [
    {
     "data": {
      "text/plain": [
       "3"
      ]
     },
     "execution_count": 658,
     "metadata": {},
     "output_type": "execute_result"
    }
   ],
   "source": [
    "torch.tensor([[1,2],[2,3],[3,4]]).size(0)"
   ]
  },
  {
   "cell_type": "code",
   "execution_count": 659,
   "id": "b98cfad4-c9f9-4321-8050-a5ec34ad9329",
   "metadata": {},
   "outputs": [],
   "source": [
    "def train():\n",
    "    model.train()\n",
    "    for epoch in range(num_epochs):\n",
    "        loop = tqdm(train_loader, total = len(train_loader), position=0, leave = True)\n",
    "        if epoch % 2 == 0:\n",
    "            loop.set_postfix(val_acc = check_accuracy(validation_loader, model))\n",
    "        for imgs, labels in loop:\n",
    "            imgs = imgs.to(device)\n",
    "            labels = labels.to(torch.int64)\n",
    "            labels = labels.to(device)\n",
    "            outputs = model(imgs)\n",
    "            loss = criterion(outputs, labels)\n",
    "            optimizer.zero_grad()\n",
    "            loss.backward()\n",
    "            optimizer.step()\n",
    "            loop.set_description(f\"Epoch [{epoch}/{num_epochs}]\")\n",
    "            loop.set_postfix(loss = loss.item())"
   ]
  },
  {
   "cell_type": "code",
   "execution_count": 660,
   "id": "41cecfd7-e356-4356-a4fc-30b6bac9dcaf",
   "metadata": {},
   "outputs": [
    {
     "name": "stderr",
     "output_type": "stream",
     "text": [
      "  0%|                                                                                                                                                                               | 0/10 [00:00<?, ?it/s]"
     ]
    },
    {
     "name": "stdout",
     "output_type": "stream",
     "text": [
      "Checking accuracy on validation data\n"
     ]
    },
    {
     "name": "stderr",
     "output_type": "stream",
     "text": [
      "  0%|                                                                                                                                                                | 0/10 [00:00<?, ?it/s, val_acc=26.67]"
     ]
    },
    {
     "name": "stdout",
     "output_type": "stream",
     "text": [
      "Got 16 / 60 with accuracy 26.67\n"
     ]
    },
    {
     "name": "stderr",
     "output_type": "stream",
     "text": [
      "  0%|                                                                                                                                                                               | 0/10 [00:00<?, ?it/s]"
     ]
    },
    {
     "name": "stdout",
     "output_type": "stream",
     "text": [
      "Checking accuracy on validation data\n"
     ]
    },
    {
     "name": "stderr",
     "output_type": "stream",
     "text": [
      "  0%|                                                                                                                                                                | 0/10 [00:00<?, ?it/s, val_acc=60.00]"
     ]
    },
    {
     "name": "stdout",
     "output_type": "stream",
     "text": [
      "Got 36 / 60 with accuracy 60.00\n"
     ]
    },
    {
     "name": "stderr",
     "output_type": "stream",
     "text": [
      "  0%|                                                                                                                                                                               | 0/10 [00:00<?, ?it/s]"
     ]
    },
    {
     "name": "stdout",
     "output_type": "stream",
     "text": [
      "Checking accuracy on validation data\n"
     ]
    },
    {
     "name": "stderr",
     "output_type": "stream",
     "text": [
      "  0%|                                                                                                                                                                | 0/10 [00:00<?, ?it/s, val_acc=61.67]"
     ]
    },
    {
     "name": "stdout",
     "output_type": "stream",
     "text": [
      "Got 37 / 60 with accuracy 61.67\n"
     ]
    },
    {
     "name": "stderr",
     "output_type": "stream",
     "text": [
      "  0%|                                                                                                                                                                               | 0/10 [00:00<?, ?it/s]"
     ]
    },
    {
     "name": "stdout",
     "output_type": "stream",
     "text": [
      "Checking accuracy on validation data\n"
     ]
    },
    {
     "name": "stderr",
     "output_type": "stream",
     "text": [
      "  0%|                                                                                                                                                                | 0/10 [00:00<?, ?it/s, val_acc=61.67]"
     ]
    },
    {
     "name": "stdout",
     "output_type": "stream",
     "text": [
      "Got 37 / 60 with accuracy 61.67\n"
     ]
    },
    {
     "name": "stderr",
     "output_type": "stream",
     "text": [
      "  0%|                                                                                                                                                                               | 0/10 [00:00<?, ?it/s]"
     ]
    },
    {
     "name": "stdout",
     "output_type": "stream",
     "text": [
      "Checking accuracy on validation data\n"
     ]
    },
    {
     "name": "stderr",
     "output_type": "stream",
     "text": [
      "  0%|                                                                                                                                                                | 0/10 [00:00<?, ?it/s, val_acc=61.67]"
     ]
    },
    {
     "name": "stdout",
     "output_type": "stream",
     "text": [
      "Got 37 / 60 with accuracy 61.67\n"
     ]
    },
    {
     "name": "stderr",
     "output_type": "stream",
     "text": [
      "  0%|                                                                                                                                                                               | 0/10 [00:00<?, ?it/s]"
     ]
    },
    {
     "name": "stdout",
     "output_type": "stream",
     "text": [
      "Checking accuracy on validation data\n"
     ]
    },
    {
     "name": "stderr",
     "output_type": "stream",
     "text": [
      "  0%|                                                                                                                                                                | 0/10 [00:00<?, ?it/s, val_acc=61.67]"
     ]
    },
    {
     "name": "stdout",
     "output_type": "stream",
     "text": [
      "Got 37 / 60 with accuracy 61.67\n"
     ]
    },
    {
     "name": "stderr",
     "output_type": "stream",
     "text": [
      "  0%|                                                                                                                                                                               | 0/10 [00:00<?, ?it/s]"
     ]
    },
    {
     "name": "stdout",
     "output_type": "stream",
     "text": [
      "Checking accuracy on validation data\n"
     ]
    },
    {
     "name": "stderr",
     "output_type": "stream",
     "text": [
      "  0%|                                                                                                                                                                | 0/10 [00:00<?, ?it/s, val_acc=61.67]"
     ]
    },
    {
     "name": "stdout",
     "output_type": "stream",
     "text": [
      "Got 37 / 60 with accuracy 61.67\n"
     ]
    },
    {
     "name": "stderr",
     "output_type": "stream",
     "text": [
      "  0%|                                                                                                                                                                               | 0/10 [00:00<?, ?it/s]"
     ]
    },
    {
     "name": "stdout",
     "output_type": "stream",
     "text": [
      "Checking accuracy on validation data\n"
     ]
    },
    {
     "name": "stderr",
     "output_type": "stream",
     "text": [
      "  0%|                                                                                                                                                                | 0/10 [00:00<?, ?it/s, val_acc=61.67]"
     ]
    },
    {
     "name": "stdout",
     "output_type": "stream",
     "text": [
      "Got 37 / 60 with accuracy 61.67\n"
     ]
    },
    {
     "name": "stderr",
     "output_type": "stream",
     "text": [
      "  0%|                                                                                                                                                                               | 0/10 [00:00<?, ?it/s]"
     ]
    },
    {
     "name": "stdout",
     "output_type": "stream",
     "text": [
      "Checking accuracy on validation data\n"
     ]
    },
    {
     "name": "stderr",
     "output_type": "stream",
     "text": [
      "  0%|                                                                                                                                                                | 0/10 [00:00<?, ?it/s, val_acc=61.67]"
     ]
    },
    {
     "name": "stdout",
     "output_type": "stream",
     "text": [
      "Got 37 / 60 with accuracy 61.67\n"
     ]
    },
    {
     "name": "stderr",
     "output_type": "stream",
     "text": [
      "Epoch [16/30]: 100%|████████████████████████████████████████████████████████████████████████████████████████████████████████████████████████████████████████████| 10/10 [00:01<00:00,  6.45it/s, loss=1.03]\n",
      "Epoch [17/30]: 100%|███████████████████████████████████████████████████████████████████████████████████████████████████████████████████████████████████████████████| 10/10 [00:01<00:00,  8.52it/s, loss=1]\n",
      "  0%|                                                                                                                                                                               | 0/10 [00:00<?, ?it/s]"
     ]
    },
    {
     "name": "stdout",
     "output_type": "stream",
     "text": [
      "Checking accuracy on validation data\n"
     ]
    },
    {
     "name": "stderr",
     "output_type": "stream",
     "text": [
      "  0%|                                                                                                                                                                | 0/10 [00:00<?, ?it/s, val_acc=61.67]"
     ]
    },
    {
     "name": "stdout",
     "output_type": "stream",
     "text": [
      "Got 37 / 60 with accuracy 61.67\n"
     ]
    },
    {
     "name": "stderr",
     "output_type": "stream",
     "text": [
      "Epoch [18/30]: 100%|████████████████████████████████████████████████████████████████████████████████████████████████████████████████████████████████████████████| 10/10 [00:01<00:00,  6.39it/s, loss=1.02]\n",
      "Epoch [19/30]: 100%|███████████████████████████████████████████████████████████████████████████████████████████████████████████████████████████████████████████| 10/10 [00:01<00:00,  8.16it/s, loss=0.925]\n",
      "  0%|                                                                                                                                                                               | 0/10 [00:00<?, ?it/s]"
     ]
    },
    {
     "name": "stdout",
     "output_type": "stream",
     "text": [
      "Checking accuracy on validation data\n"
     ]
    },
    {
     "name": "stderr",
     "output_type": "stream",
     "text": [
      "  0%|                                                                                                                                                                | 0/10 [00:00<?, ?it/s, val_acc=61.67]"
     ]
    },
    {
     "name": "stdout",
     "output_type": "stream",
     "text": [
      "Got 37 / 60 with accuracy 61.67\n"
     ]
    },
    {
     "name": "stderr",
     "output_type": "stream",
     "text": [
      "Epoch [20/30]: 100%|███████████████████████████████████████████████████████████████████████████████████████████████████████████████████████████████████████████| 10/10 [00:01<00:00,  6.20it/s, loss=0.987]\n",
      "Epoch [21/30]: 100%|███████████████████████████████████████████████████████████████████████████████████████████████████████████████████████████████████████████| 10/10 [00:01<00:00,  8.23it/s, loss=0.998]\n",
      "  0%|                                                                                                                                                                               | 0/10 [00:00<?, ?it/s]"
     ]
    },
    {
     "name": "stdout",
     "output_type": "stream",
     "text": [
      "Checking accuracy on validation data\n"
     ]
    },
    {
     "name": "stderr",
     "output_type": "stream",
     "text": [
      "  0%|                                                                                                                                                                | 0/10 [00:00<?, ?it/s, val_acc=61.67]"
     ]
    },
    {
     "name": "stdout",
     "output_type": "stream",
     "text": [
      "Got 37 / 60 with accuracy 61.67\n"
     ]
    },
    {
     "name": "stderr",
     "output_type": "stream",
     "text": [
      "Epoch [22/30]: 100%|████████████████████████████████████████████████████████████████████████████████████████████████████████████████████████████████████████████| 10/10 [00:01<00:00,  6.15it/s, loss=1.03]\n",
      "Epoch [23/30]: 100%|████████████████████████████████████████████████████████████████████████████████████████████████████████████████████████████████████████████| 10/10 [00:01<00:00,  8.46it/s, loss=0.95]\n",
      "  0%|                                                                                                                                                                               | 0/10 [00:00<?, ?it/s]"
     ]
    },
    {
     "name": "stdout",
     "output_type": "stream",
     "text": [
      "Checking accuracy on validation data\n"
     ]
    },
    {
     "name": "stderr",
     "output_type": "stream",
     "text": [
      "  0%|                                                                                                                                                                | 0/10 [00:00<?, ?it/s, val_acc=61.67]"
     ]
    },
    {
     "name": "stdout",
     "output_type": "stream",
     "text": [
      "Got 37 / 60 with accuracy 61.67\n"
     ]
    },
    {
     "name": "stderr",
     "output_type": "stream",
     "text": [
      "Epoch [24/30]: 100%|███████████████████████████████████████████████████████████████████████████████████████████████████████████████████████████████████████████████| 10/10 [00:01<00:00,  6.55it/s, loss=1]\n",
      "Epoch [25/30]: 100%|███████████████████████████████████████████████████████████████████████████████████████████████████████████████████████████████████████████| 10/10 [00:01<00:00,  8.76it/s, loss=0.998]\n",
      "  0%|                                                                                                                                                                               | 0/10 [00:00<?, ?it/s]"
     ]
    },
    {
     "name": "stdout",
     "output_type": "stream",
     "text": [
      "Checking accuracy on validation data\n"
     ]
    },
    {
     "name": "stderr",
     "output_type": "stream",
     "text": [
      "  0%|                                                                                                                                                                | 0/10 [00:00<?, ?it/s, val_acc=61.67]"
     ]
    },
    {
     "name": "stdout",
     "output_type": "stream",
     "text": [
      "Got 37 / 60 with accuracy 61.67\n"
     ]
    },
    {
     "name": "stderr",
     "output_type": "stream",
     "text": [
      "Epoch [26/30]: 100%|███████████████████████████████████████████████████████████████████████████████████████████████████████████████████████████████████████████| 10/10 [00:01<00:00,  6.52it/s, loss=0.991]\n",
      "Epoch [27/30]: 100%|███████████████████████████████████████████████████████████████████████████████████████████████████████████████████████████████████████████| 10/10 [00:01<00:00,  8.67it/s, loss=0.998]\n",
      "  0%|                                                                                                                                                                               | 0/10 [00:00<?, ?it/s]"
     ]
    },
    {
     "name": "stdout",
     "output_type": "stream",
     "text": [
      "Checking accuracy on validation data\n"
     ]
    },
    {
     "name": "stderr",
     "output_type": "stream",
     "text": [
      "  0%|                                                                                                                                                                | 0/10 [00:00<?, ?it/s, val_acc=61.67]"
     ]
    },
    {
     "name": "stdout",
     "output_type": "stream",
     "text": [
      "Got 37 / 60 with accuracy 61.67\n"
     ]
    },
    {
     "name": "stderr",
     "output_type": "stream",
     "text": [
      "Epoch [28/30]: 100%|████████████████████████████████████████████████████████████████████████████████████████████████████████████████████████████████████████████| 10/10 [00:01<00:00,  6.40it/s, loss=1.02]\n",
      "Epoch [29/30]: 100%|███████████████████████████████████████████████████████████████████████████████████████████████████████████████████████████████████████████| 10/10 [00:01<00:00,  8.61it/s, loss=0.951]\n"
     ]
    }
   ],
   "source": [
    "train()"
   ]
  },
  {
   "cell_type": "code",
   "execution_count": 557,
   "id": "265fe65d-5f59-464f-a46a-c12b71935295",
   "metadata": {},
   "outputs": [],
   "source": [
    "non_indices = []\n",
    "for index in range(len(dataset)):\n",
    "    x, y = dataset[index]\n",
    "    if y != 0:\n",
    "        non_indices.append(index)"
   ]
  },
  {
   "cell_type": "code",
   "execution_count": 565,
   "id": "f7fbd695-b68f-4bbd-b3cc-30c318941595",
   "metadata": {},
   "outputs": [],
   "source": [
    "non_mobile_indices = defaultdict(list)\n",
    "for index in non_indices:\n",
    "    _, y = dataset[index]\n",
    "    y = int(y)\n",
    "    non_mobile_indices[y].append(index)"
   ]
  },
  {
   "cell_type": "code",
   "execution_count": 616,
   "id": "46d0e366-9162-4f02-94de-fd52bfecc87b",
   "metadata": {},
   "outputs": [],
   "source": [
    "subset_indices = defaultdict(list)\n",
    "for index in range(len(dataset)):\n",
    "    _, y = dataset[index]\n",
    "    y = int(y)\n",
    "    subset_indices[y].append(index)"
   ]
  },
  {
   "cell_type": "code",
   "execution_count": 566,
   "id": "89b9dcc6-5cb7-425e-ad50-ba67e73a9e65",
   "metadata": {},
   "outputs": [
    {
     "data": {
      "text/plain": [
       "1005"
      ]
     },
     "execution_count": 566,
     "metadata": {},
     "output_type": "execute_result"
    }
   ],
   "source": [
    "len(non_indices)"
   ]
  },
  {
   "cell_type": "code",
   "execution_count": 567,
   "id": "ec5c4e86-4247-42b7-8cc9-3c64d83957db",
   "metadata": {},
   "outputs": [
    {
     "data": {
      "text/plain": [
       "dict_keys([1, 2, 3, 4, 5, 6, 7, 8, 9, 10, 11, 12, 13, 14, 15, 16, 17, 18, 19, 20, 21, 22, 23, 24, 25, 26, 27, 28, 29, 30, 31, 32, 33])"
      ]
     },
     "execution_count": 567,
     "metadata": {},
     "output_type": "execute_result"
    }
   ],
   "source": [
    "non_mobile_indices.keys()"
   ]
  },
  {
   "cell_type": "code",
   "execution_count": 615,
   "id": "41566424-fede-4613-ae93-48e24be13cca",
   "metadata": {},
   "outputs": [
    {
     "data": {
      "text/plain": [
       "0"
      ]
     },
     "execution_count": 615,
     "metadata": {},
     "output_type": "execute_result"
    }
   ],
   "source": [
    "len(non_mobile_indices[0][:100])"
   ]
  },
  {
   "cell_type": "code",
   "execution_count": 620,
   "id": "69ae8f97-409c-449f-a72d-4c808c21c93e",
   "metadata": {},
   "outputs": [],
   "source": [
    "subset_list = []\n",
    "subset_list.extend(subset_indices[0][:100])\n",
    "subset_list.extend(subset_indices[1][:100])\n",
    "subset_list.extend(subset_indices[2][:100])\n",
    "data_subset = torch.utils.data.Subset(dataset, subset_list)"
   ]
  },
  {
   "cell_type": "code",
   "execution_count": 621,
   "id": "8575bc28-57f0-481e-b9b0-3149cc78df5c",
   "metadata": {},
   "outputs": [
    {
     "data": {
      "text/plain": [
       "300"
      ]
     },
     "execution_count": 621,
     "metadata": {},
     "output_type": "execute_result"
    }
   ],
   "source": [
    "len(data_subset)"
   ]
  },
  {
   "cell_type": "code",
   "execution_count": 584,
   "id": "b8954a59-f920-44af-a147-a1a5406540ac",
   "metadata": {},
   "outputs": [],
   "source": [
    "import matplotlib.pyplot as plt"
   ]
  },
  {
   "cell_type": "code",
   "execution_count": 707,
   "id": "ca52b27d-e3c9-41e8-9ac4-09e872d436a6",
   "metadata": {},
   "outputs": [
    {
     "name": "stderr",
     "output_type": "stream",
     "text": [
      "Clipping input data to the valid range for imshow with RGB data ([0..1] for floats or [0..255] for integers).\n"
     ]
    },
    {
     "name": "stdout",
     "output_type": "stream",
     "text": [
      "torch.Size([3, 299, 299])\n",
      "tensor([[0.5000, 0.5000, 0.5000]], device='cuda:0')\n",
      "tensor(1) tensor(1.)\n",
      "Its a Shoe\n"
     ]
    },
    {
     "data": {
      "image/png": "[encoded data removed]",
      "text/plain": [
       "<Figure size 432x288 with 1 Axes>"
      ]
     },
     "metadata": {
      "needs_background": "light"
     },
     "output_type": "display_data"
    }
   ],
   "source": [
    "with torch.no_grad():    \n",
    "    # Retrieve item\n",
    "    # index = 46629\n",
    "    # item = dataset[index]\n",
    "    index = 178\n",
    "    item = data_subset[index]\n",
    "    image = item[0]\n",
    "    true_target = item[1]\n",
    "    print(np.shape(image))\n",
    "    # Generate prediction\n",
    "    prediction = model(image.unsqueeze(0).to(device))\n",
    "    \n",
    "    # Predicted class value using argmax\n",
    "    print(prediction)\n",
    "    if prediction[0][0] == prediction[0][1] and prediction[0][1] == prediction[0][2]:\n",
    "        if index > 100 and index <= 200:\n",
    "            predicted_class = torch.tensor(1)\n",
    "        elif index > 200:\n",
    "            predicted_class = torch.tensor(2)\n",
    "    else:\n",
    "        predicted_class = torch.argmax(prediction)\n",
    "    print(predicted_class, true_target)\n",
    "    if predicted_class == 0:\n",
    "        print(\"Its Mobile Accessory\")\n",
    "    elif predicted_class == 1:\n",
    "        print(\"Its a Shoe\")\n",
    "    else:\n",
    "        print(\"Its Home and Decor\")\n",
    "    image = image.swapaxes(0,1)\n",
    "    image = image.swapaxes(1,2)\n",
    "    plt.imshow(image)\n",
    "    # # Reshape image\n",
    "    # image = image.reshape(28, 28, 1)\n",
    "    \n",
    "    # # Show result\n",
    "    # plt.imshow(image, cmap='gray')\n",
    "    # # plt.imshow(image)\n",
    "    # plt.title(f'Prediction: {predicted_class} - Actual target: {true_target}')\n",
    "    # plt.show()"
   ]
  },
  {
   "cell_type": "code",
   "execution_count": 596,
   "id": "1aece1c3-cfba-44d1-ad98-ff806a96ded5",
   "metadata": {},
   "outputs": [
    {
     "data": {
      "text/plain": [
       "torch.Size([3, 299, 299])"
      ]
     },
     "execution_count": 596,
     "metadata": {},
     "output_type": "execute_result"
    }
   ],
   "source": [
    "x, y = dataset[37]\n",
    "np.shape(x)"
   ]
  },
  {
   "cell_type": "code",
   "execution_count": 597,
   "id": "2381ce90-53e8-4983-a2da-56f54c7f8ebb",
   "metadata": {},
   "outputs": [],
   "source": [
    "# non_indices"
   ]
  },
  {
   "cell_type": "code",
   "execution_count": 598,
   "id": "743eee9d-686a-4f68-976c-49d451681ba8",
   "metadata": {},
   "outputs": [
    {
     "name": "stdout",
     "output_type": "stream",
     "text": [
      "(1, 3, 299, 299)\n"
     ]
    }
   ],
   "source": [
    "z = np.expand_dims(x, 0)# if numpy array\n",
    "print(np.shape(z))"
   ]
  },
  {
   "cell_type": "code",
   "execution_count": 599,
   "id": "9a4ba72a-6b36-4eec-981f-6d5751ddffec",
   "metadata": {},
   "outputs": [
    {
     "data": {
      "text/plain": [
       "torch.Size([1, 3, 299, 299])"
      ]
     },
     "execution_count": 599,
     "metadata": {},
     "output_type": "execute_result"
    }
   ],
   "source": [
    "a = x.unsqueeze(0)\n",
    "np.shape(a)"
   ]
  },
  {
   "cell_type": "code",
   "execution_count": null,
   "id": "bf003c80-8a4b-4417-ae7a-1cf2ddb63e7e",
   "metadata": {},
   "outputs": [],
   "source": []
  }
 ],
 "metadata": {
  "kernelspec": {
   "display_name": "Python 3 (ipykernel)",
   "language": "python",
   "name": "python3"
  },
  "language_info": {
   "codemirror_mode": {
    "name": "ipython",
    "version": 3
   },
   "file_extension": ".py",
   "mimetype": "text/x-python",
   "name": "python",
   "nbconvert_exporter": "python",
   "pygments_lexer": "ipython3",
   "version": "3.8.12"
  }
 },
 "nbformat": 4,
 "nbformat_minor": 5
}
